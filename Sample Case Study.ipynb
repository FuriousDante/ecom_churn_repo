{
 "cells": [
  {
   "cell_type": "markdown",
   "id": "54a12919-68f5-4b21-be6e-62d3bdcf9652",
   "metadata": {},
   "source": [
    "# Importing the libraries"
   ]
  },
  {
   "cell_type": "code",
   "execution_count": 1,
   "id": "5d53a589-2de3-45de-ad81-4cdd3e09a65f",
   "metadata": {
    "tags": []
   },
   "outputs": [],
   "source": [
    "# Data Reading\n",
    "from google.cloud import bigquery\n",
    "import pandas as pd\n",
    "import numpy as np\n",
    "\n",
    "# Visualization\n",
    "import plotly.express as px\n",
    "import plotly.io as pio\n",
    "pio.renderers.default = 'iframe'\n",
    "import matplotlib.pyplot as plt\n",
    "\n",
    "# Model Building\n",
    "from sklearn.linear_model import LinearRegression\n",
    "\n",
    "# Pickling the file\n",
    "import pickle\n",
    "\n",
    "# Writing Data\n",
    "import pandas_gbq"
   ]
  },
  {
   "cell_type": "code",
   "execution_count": 13,
   "id": "65e3fe2c-4afe-4bd0-a3b7-a5d632151c82",
   "metadata": {
    "tags": []
   },
   "outputs": [
    {
     "name": "stdout",
     "output_type": "stream",
     "text": [
      "Collecting pandas-gbq\n",
      "  Downloading pandas_gbq-0.20.0-py2.py3-none-any.whl.metadata (3.4 kB)\n",
      "Requirement already satisfied: setuptools in /opt/conda/lib/python3.10/site-packages (from pandas-gbq) (68.2.2)\n",
      "Requirement already satisfied: db-dtypes<2.0.0,>=1.0.4 in /opt/conda/lib/python3.10/site-packages (from pandas-gbq) (1.1.1)\n",
      "Requirement already satisfied: numpy>=1.16.6 in /opt/conda/lib/python3.10/site-packages (from pandas-gbq) (1.25.2)\n",
      "Requirement already satisfied: pandas>=1.1.4 in /opt/conda/lib/python3.10/site-packages (from pandas-gbq) (2.0.3)\n",
      "Requirement already satisfied: pyarrow>=3.0.0 in /opt/conda/lib/python3.10/site-packages (from pandas-gbq) (14.0.0)\n",
      "Collecting pydata-google-auth>=1.5.0 (from pandas-gbq)\n",
      "  Downloading pydata_google_auth-1.8.2-py2.py3-none-any.whl.metadata (3.2 kB)\n",
      "Collecting google-api-core<3.0.0dev,>=2.10.2 (from pandas-gbq)\n",
      "  Downloading google_api_core-2.15.0-py3-none-any.whl.metadata (2.7 kB)\n",
      "Requirement already satisfied: google-auth>=2.13.0 in /opt/conda/lib/python3.10/site-packages (from pandas-gbq) (2.23.4)\n",
      "Requirement already satisfied: google-auth-oauthlib>=0.7.0 in /opt/conda/lib/python3.10/site-packages (from pandas-gbq) (1.1.0)\n",
      "Requirement already satisfied: google-cloud-bigquery!=2.4.*,<4.0.0dev,>=3.3.5 in /opt/conda/lib/python3.10/site-packages (from pandas-gbq) (3.13.0)\n",
      "Requirement already satisfied: google-cloud-bigquery-storage<3.0.0dev,>=2.16.2 in /opt/conda/lib/python3.10/site-packages (from pandas-gbq) (2.22.0)\n",
      "Requirement already satisfied: packaging>=20.0.0 in /opt/conda/lib/python3.10/site-packages (from pandas-gbq) (23.2)\n",
      "Requirement already satisfied: googleapis-common-protos<2.0.dev0,>=1.56.2 in /opt/conda/lib/python3.10/site-packages (from google-api-core<3.0.0dev,>=2.10.2->pandas-gbq) (1.61.0)\n",
      "Requirement already satisfied: protobuf!=3.20.0,!=3.20.1,!=4.21.0,!=4.21.1,!=4.21.2,!=4.21.3,!=4.21.4,!=4.21.5,<5.0.0.dev0,>=3.19.5 in /opt/conda/lib/python3.10/site-packages (from google-api-core<3.0.0dev,>=2.10.2->pandas-gbq) (3.20.3)\n",
      "Requirement already satisfied: requests<3.0.0.dev0,>=2.18.0 in /opt/conda/lib/python3.10/site-packages (from google-api-core<3.0.0dev,>=2.10.2->pandas-gbq) (2.31.0)\n",
      "Requirement already satisfied: cachetools<6.0,>=2.0.0 in /opt/conda/lib/python3.10/site-packages (from google-auth>=2.13.0->pandas-gbq) (5.3.2)\n",
      "Requirement already satisfied: pyasn1-modules>=0.2.1 in /opt/conda/lib/python3.10/site-packages (from google-auth>=2.13.0->pandas-gbq) (0.3.0)\n",
      "Requirement already satisfied: rsa<5,>=3.1.4 in /opt/conda/lib/python3.10/site-packages (from google-auth>=2.13.0->pandas-gbq) (4.9)\n",
      "Requirement already satisfied: requests-oauthlib>=0.7.0 in /opt/conda/lib/python3.10/site-packages (from google-auth-oauthlib>=0.7.0->pandas-gbq) (1.3.1)\n",
      "Requirement already satisfied: grpcio<2.0dev,>=1.47.0 in /opt/conda/lib/python3.10/site-packages (from google-cloud-bigquery!=2.4.*,<4.0.0dev,>=3.3.5->pandas-gbq) (1.59.2)\n",
      "Requirement already satisfied: proto-plus<2.0.0dev,>=1.15.0 in /opt/conda/lib/python3.10/site-packages (from google-cloud-bigquery!=2.4.*,<4.0.0dev,>=3.3.5->pandas-gbq) (1.22.3)\n",
      "Requirement already satisfied: google-cloud-core<3.0.0dev,>=1.6.0 in /opt/conda/lib/python3.10/site-packages (from google-cloud-bigquery!=2.4.*,<4.0.0dev,>=3.3.5->pandas-gbq) (2.3.3)\n",
      "Requirement already satisfied: google-resumable-media<3.0dev,>=0.6.0 in /opt/conda/lib/python3.10/site-packages (from google-cloud-bigquery!=2.4.*,<4.0.0dev,>=3.3.5->pandas-gbq) (2.6.0)\n",
      "Requirement already satisfied: python-dateutil<3.0dev,>=2.7.2 in /opt/conda/lib/python3.10/site-packages (from google-cloud-bigquery!=2.4.*,<4.0.0dev,>=3.3.5->pandas-gbq) (2.8.2)\n",
      "Requirement already satisfied: pytz>=2020.1 in /opt/conda/lib/python3.10/site-packages (from pandas>=1.1.4->pandas-gbq) (2023.3.post1)\n",
      "Requirement already satisfied: tzdata>=2022.1 in /opt/conda/lib/python3.10/site-packages (from pandas>=1.1.4->pandas-gbq) (2023.3)\n",
      "Requirement already satisfied: grpcio-status<2.0.dev0,>=1.33.2 in /opt/conda/lib/python3.10/site-packages (from google-api-core[grpc]!=2.0.*,!=2.1.*,!=2.2.*,!=2.3.0,<3.0.0dev,>=1.31.5->google-cloud-bigquery!=2.4.*,<4.0.0dev,>=3.3.5->pandas-gbq) (1.48.2)\n",
      "Requirement already satisfied: google-crc32c<2.0dev,>=1.0 in /opt/conda/lib/python3.10/site-packages (from google-resumable-media<3.0dev,>=0.6.0->google-cloud-bigquery!=2.4.*,<4.0.0dev,>=3.3.5->pandas-gbq) (1.5.0)\n",
      "Requirement already satisfied: pyasn1<0.6.0,>=0.4.6 in /opt/conda/lib/python3.10/site-packages (from pyasn1-modules>=0.2.1->google-auth>=2.13.0->pandas-gbq) (0.5.0)\n",
      "Requirement already satisfied: six>=1.5 in /opt/conda/lib/python3.10/site-packages (from python-dateutil<3.0dev,>=2.7.2->google-cloud-bigquery!=2.4.*,<4.0.0dev,>=3.3.5->pandas-gbq) (1.16.0)\n",
      "Requirement already satisfied: charset-normalizer<4,>=2 in /opt/conda/lib/python3.10/site-packages (from requests<3.0.0.dev0,>=2.18.0->google-api-core<3.0.0dev,>=2.10.2->pandas-gbq) (3.3.2)\n",
      "Requirement already satisfied: idna<4,>=2.5 in /opt/conda/lib/python3.10/site-packages (from requests<3.0.0.dev0,>=2.18.0->google-api-core<3.0.0dev,>=2.10.2->pandas-gbq) (3.4)\n",
      "Requirement already satisfied: urllib3<3,>=1.21.1 in /opt/conda/lib/python3.10/site-packages (from requests<3.0.0.dev0,>=2.18.0->google-api-core<3.0.0dev,>=2.10.2->pandas-gbq) (1.26.18)\n",
      "Requirement already satisfied: certifi>=2017.4.17 in /opt/conda/lib/python3.10/site-packages (from requests<3.0.0.dev0,>=2.18.0->google-api-core<3.0.0dev,>=2.10.2->pandas-gbq) (2023.7.22)\n",
      "Requirement already satisfied: oauthlib>=3.0.0 in /opt/conda/lib/python3.10/site-packages (from requests-oauthlib>=0.7.0->google-auth-oauthlib>=0.7.0->pandas-gbq) (3.2.2)\n",
      "Downloading pandas_gbq-0.20.0-py2.py3-none-any.whl (25 kB)\n",
      "Downloading google_api_core-2.15.0-py3-none-any.whl (121 kB)\n",
      "\u001b[2K   \u001b[90m━━━━━━━━━━━━━━━━━━━━━━━━━━━━━━━━━━━━━━━━\u001b[0m \u001b[32m122.0/122.0 kB\u001b[0m \u001b[31m1.8 MB/s\u001b[0m eta \u001b[36m0:00:00\u001b[0m \u001b[36m0:00:01\u001b[0m\n",
      "\u001b[?25hDownloading pydata_google_auth-1.8.2-py2.py3-none-any.whl (15 kB)\n",
      "Installing collected packages: google-api-core, pydata-google-auth, pandas-gbq\n",
      "  Attempting uninstall: google-api-core\n",
      "    Found existing installation: google-api-core 1.34.0\n",
      "    Uninstalling google-api-core-1.34.0:\n",
      "      Successfully uninstalled google-api-core-1.34.0\n",
      "\u001b[33m  WARNING: Failed to remove contents in a temporary directory '/opt/conda/lib/python3.10/site-packages/google/~pi_core'.\n",
      "  You can safely remove it manually.\u001b[0m\u001b[33m\n",
      "\u001b[0m\u001b[31mERROR: pip's dependency resolver does not currently take into account all the packages that are installed. This behaviour is the source of the following dependency conflicts.\n",
      "google-api-python-client 1.8.0 requires google-api-core<2dev,>=1.13.0, but you have google-api-core 2.15.0 which is incompatible.\u001b[0m\u001b[31m\n",
      "\u001b[0mSuccessfully installed google-api-core-2.15.0 pandas-gbq-0.20.0 pydata-google-auth-1.8.2\n"
     ]
    }
   ],
   "source": [
    "!pip install pandas-gbq"
   ]
  },
  {
   "cell_type": "markdown",
   "id": "a4e5b7b3-75b6-49c5-b376-8441d4841bbc",
   "metadata": {},
   "source": [
    "## Reading Data"
   ]
  },
  {
   "cell_type": "code",
   "execution_count": 2,
   "id": "3be58bc4-36f8-4857-866f-68c04f71bb4c",
   "metadata": {
    "tags": []
   },
   "outputs": [
    {
     "data": {
      "text/html": [
       "<div>\n",
       "<style scoped>\n",
       "    .dataframe tbody tr th:only-of-type {\n",
       "        vertical-align: middle;\n",
       "    }\n",
       "\n",
       "    .dataframe tbody tr th {\n",
       "        vertical-align: top;\n",
       "    }\n",
       "\n",
       "    .dataframe thead th {\n",
       "        text-align: right;\n",
       "    }\n",
       "</style>\n",
       "<table border=\"1\" class=\"dataframe\">\n",
       "  <thead>\n",
       "    <tr style=\"text-align: right;\">\n",
       "      <th></th>\n",
       "      <th>Year</th>\n",
       "      <th>County_of_Residence</th>\n",
       "      <th>County_of_Residence_FIPS</th>\n",
       "      <th>Births</th>\n",
       "      <th>Ave_Age_of_Mother</th>\n",
       "      <th>Ave_OE_Gestational_Age_Wks</th>\n",
       "      <th>Ave_LMP_Gestational_Age_Wks</th>\n",
       "      <th>Ave_Birth_Weight_gms</th>\n",
       "      <th>Ave_Pre_pregnancy_BMI</th>\n",
       "      <th>Ave_Number_of_Prenatal_Wks</th>\n",
       "    </tr>\n",
       "  </thead>\n",
       "  <tbody>\n",
       "    <tr>\n",
       "      <th>0</th>\n",
       "      <td>2018-01-01</td>\n",
       "      <td>Calhoun County, AL</td>\n",
       "      <td>01015</td>\n",
       "      <td>1265</td>\n",
       "      <td>26.67</td>\n",
       "      <td>38.11</td>\n",
       "      <td>38.25</td>\n",
       "      <td>3168.14</td>\n",
       "      <td>28.85</td>\n",
       "      <td>10.45</td>\n",
       "    </tr>\n",
       "    <tr>\n",
       "      <th>1</th>\n",
       "      <td>2018-01-01</td>\n",
       "      <td>Tulsa County, OK</td>\n",
       "      <td>40143</td>\n",
       "      <td>8933</td>\n",
       "      <td>28.13</td>\n",
       "      <td>38.18</td>\n",
       "      <td>38.25</td>\n",
       "      <td>3243.39</td>\n",
       "      <td>27.58</td>\n",
       "      <td>11.04</td>\n",
       "    </tr>\n",
       "    <tr>\n",
       "      <th>2</th>\n",
       "      <td>2018-01-01</td>\n",
       "      <td>Carroll County, GA</td>\n",
       "      <td>13045</td>\n",
       "      <td>1540</td>\n",
       "      <td>27.20</td>\n",
       "      <td>38.50</td>\n",
       "      <td>38.50</td>\n",
       "      <td>3253.35</td>\n",
       "      <td>27.98</td>\n",
       "      <td>10.75</td>\n",
       "    </tr>\n",
       "    <tr>\n",
       "      <th>3</th>\n",
       "      <td>2018-01-01</td>\n",
       "      <td>Saginaw County, MI</td>\n",
       "      <td>26145</td>\n",
       "      <td>2182</td>\n",
       "      <td>27.41</td>\n",
       "      <td>38.75</td>\n",
       "      <td>38.50</td>\n",
       "      <td>3226.90</td>\n",
       "      <td>28.85</td>\n",
       "      <td>11.58</td>\n",
       "    </tr>\n",
       "    <tr>\n",
       "      <th>4</th>\n",
       "      <td>2018-01-01</td>\n",
       "      <td>Hillsborough County, FL</td>\n",
       "      <td>12057</td>\n",
       "      <td>17126</td>\n",
       "      <td>28.97</td>\n",
       "      <td>38.41</td>\n",
       "      <td>38.50</td>\n",
       "      <td>3230.36</td>\n",
       "      <td>26.75</td>\n",
       "      <td>10.64</td>\n",
       "    </tr>\n",
       "  </tbody>\n",
       "</table>\n",
       "</div>"
      ],
      "text/plain": [
       "         Year      County_of_Residence County_of_Residence_FIPS  Births  \\\n",
       "0  2018-01-01       Calhoun County, AL                    01015    1265   \n",
       "1  2018-01-01         Tulsa County, OK                    40143    8933   \n",
       "2  2018-01-01       Carroll County, GA                    13045    1540   \n",
       "3  2018-01-01       Saginaw County, MI                    26145    2182   \n",
       "4  2018-01-01  Hillsborough County, FL                    12057   17126   \n",
       "\n",
       "   Ave_Age_of_Mother  Ave_OE_Gestational_Age_Wks  Ave_LMP_Gestational_Age_Wks  \\\n",
       "0              26.67                       38.11                        38.25   \n",
       "1              28.13                       38.18                        38.25   \n",
       "2              27.20                       38.50                        38.50   \n",
       "3              27.41                       38.75                        38.50   \n",
       "4              28.97                       38.41                        38.50   \n",
       "\n",
       "   Ave_Birth_Weight_gms  Ave_Pre_pregnancy_BMI  Ave_Number_of_Prenatal_Wks  \n",
       "0               3168.14                  28.85                       10.45  \n",
       "1               3243.39                  27.58                       11.04  \n",
       "2               3253.35                  27.98                       10.75  \n",
       "3               3226.90                  28.85                       11.58  \n",
       "4               3230.36                  26.75                       10.64  "
      ]
     },
     "metadata": {},
     "output_type": "display_data"
    },
    {
     "name": "stdout",
     "output_type": "stream",
     "text": [
      "<class 'pandas.core.frame.DataFrame'>\n"
     ]
    }
   ],
   "source": [
    "client = bigquery.Client()\n",
    "\n",
    "# Perform a query.\n",
    "QUERY = (\n",
    "    'SELECT * FROM `bigquery-public-data.sdoh_cdc_wonder_natality.county_natality` '\n",
    "    'LIMIT 10')\n",
    "\n",
    "query_job = client.query(QUERY)  # API request\n",
    "rows = query_job.result()  # Waits for query to finish\n",
    "\n",
    "data = pd.DataFrame(data=[list(row.values()) for row in rows],\n",
    "                  columns=[field.name for field in rows.schema])\n",
    "\n",
    "# Display the DataFrame\n",
    "display(data.head())\n",
    "\n",
    "# Print the type of Dataframe\n",
    "print(type(data))"
   ]
  },
  {
   "cell_type": "markdown",
   "id": "ba4bc5a3-683f-45f3-ad74-eaef657538ec",
   "metadata": {},
   "source": [
    "# EDA"
   ]
  },
  {
   "cell_type": "markdown",
   "id": "166de903-be5f-4ce0-8f8f-4c150efe48bc",
   "metadata": {},
   "source": [
    "## Info"
   ]
  },
  {
   "cell_type": "code",
   "execution_count": 3,
   "id": "a134dcf9-b29a-4729-a1bb-5474f09ded4d",
   "metadata": {
    "tags": []
   },
   "outputs": [
    {
     "name": "stdout",
     "output_type": "stream",
     "text": [
      "<class 'pandas.core.frame.DataFrame'>\n",
      "RangeIndex: 10 entries, 0 to 9\n",
      "Data columns (total 10 columns):\n",
      " #   Column                       Non-Null Count  Dtype  \n",
      "---  ------                       --------------  -----  \n",
      " 0   Year                         10 non-null     object \n",
      " 1   County_of_Residence          10 non-null     object \n",
      " 2   County_of_Residence_FIPS     10 non-null     object \n",
      " 3   Births                       10 non-null     int64  \n",
      " 4   Ave_Age_of_Mother            10 non-null     float64\n",
      " 5   Ave_OE_Gestational_Age_Wks   10 non-null     float64\n",
      " 6   Ave_LMP_Gestational_Age_Wks  10 non-null     float64\n",
      " 7   Ave_Birth_Weight_gms         10 non-null     float64\n",
      " 8   Ave_Pre_pregnancy_BMI        10 non-null     float64\n",
      " 9   Ave_Number_of_Prenatal_Wks   10 non-null     float64\n",
      "dtypes: float64(6), int64(1), object(3)\n",
      "memory usage: 928.0+ bytes\n"
     ]
    }
   ],
   "source": [
    "data.info()"
   ]
  },
  {
   "cell_type": "markdown",
   "id": "9951d150-95bf-4ae6-b1a8-dfdda23372bb",
   "metadata": {},
   "source": [
    "## Value Counts"
   ]
  },
  {
   "cell_type": "code",
   "execution_count": 4,
   "id": "d467dfac-0b75-426b-afcc-90fa53f1e355",
   "metadata": {
    "tags": []
   },
   "outputs": [
    {
     "name": "stdout",
     "output_type": "stream",
     "text": [
      "\n",
      "------- Year -------\n",
      "\n",
      "Year\n",
      "2018-01-01    10\n",
      "Name: count, dtype: int64\n",
      "\n",
      "------- County_of_Residence -------\n",
      "\n",
      "County_of_Residence\n",
      "Calhoun County, AL         1\n",
      "Tulsa County, OK           1\n",
      "Carroll County, GA         1\n",
      "Saginaw County, MI         1\n",
      "Hillsborough County, FL    1\n",
      "Lake County, IN            1\n",
      "St. Tammany Parish, LA     1\n",
      "Osceola County, FL         1\n",
      "Sarpy County, NE           1\n",
      "Kane County, IL            1\n",
      "Name: count, dtype: int64\n",
      "\n",
      "------- County_of_Residence_FIPS -------\n",
      "\n",
      "County_of_Residence_FIPS\n",
      "01015    1\n",
      "40143    1\n",
      "13045    1\n",
      "26145    1\n",
      "12057    1\n",
      "18089    1\n",
      "22103    1\n",
      "12097    1\n",
      "31153    1\n",
      "17089    1\n",
      "Name: count, dtype: int64\n",
      "\n",
      "------- Births -------\n",
      "\n",
      "Births\n",
      "1265     1\n",
      "8933     1\n",
      "1540     1\n",
      "2182     1\n",
      "17126    1\n",
      "5785     1\n",
      "2932     1\n",
      "4437     1\n",
      "2386     1\n",
      "6337     1\n",
      "Name: count, dtype: int64\n",
      "\n",
      "------- Ave_Age_of_Mother -------\n",
      "\n",
      "Ave_Age_of_Mother\n",
      "26.67    1\n",
      "28.13    1\n",
      "27.20    1\n",
      "27.41    1\n",
      "28.97    1\n",
      "28.12    1\n",
      "29.12    1\n",
      "28.64    1\n",
      "29.43    1\n",
      "29.63    1\n",
      "Name: count, dtype: int64\n",
      "\n",
      "------- Ave_OE_Gestational_Age_Wks -------\n",
      "\n",
      "Ave_OE_Gestational_Age_Wks\n",
      "38.41    2\n",
      "38.30    2\n",
      "38.11    1\n",
      "38.18    1\n",
      "38.50    1\n",
      "38.75    1\n",
      "38.31    1\n",
      "38.29    1\n",
      "Name: count, dtype: int64\n",
      "\n",
      "------- Ave_LMP_Gestational_Age_Wks -------\n",
      "\n",
      "Ave_LMP_Gestational_Age_Wks\n",
      "38.50    8\n",
      "38.25    2\n",
      "Name: count, dtype: int64\n",
      "\n",
      "------- Ave_Birth_Weight_gms -------\n",
      "\n",
      "Ave_Birth_Weight_gms\n",
      "3168.14    1\n",
      "3243.39    1\n",
      "3253.35    1\n",
      "3226.90    1\n",
      "3230.36    1\n",
      "3243.64    1\n",
      "3263.36    1\n",
      "3231.13    1\n",
      "3344.03    1\n",
      "3288.64    1\n",
      "Name: count, dtype: int64\n",
      "\n",
      "------- Ave_Pre_pregnancy_BMI -------\n",
      "\n",
      "Ave_Pre_pregnancy_BMI\n",
      "28.85    2\n",
      "27.58    1\n",
      "27.98    1\n",
      "26.75    1\n",
      "28.19    1\n",
      "27.00    1\n",
      "27.08    1\n",
      "26.98    1\n",
      "27.56    1\n",
      "Name: count, dtype: int64\n",
      "\n",
      "------- Ave_Number_of_Prenatal_Wks -------\n",
      "\n",
      "Ave_Number_of_Prenatal_Wks\n",
      "10.45    1\n",
      "11.04    1\n",
      "10.75    1\n",
      "11.58    1\n",
      "10.64    1\n",
      "10.72    1\n",
      "11.29    1\n",
      "11.40    1\n",
      "12.40    1\n",
      "11.43    1\n",
      "Name: count, dtype: int64\n"
     ]
    }
   ],
   "source": [
    "for col in data.columns.to_list():\n",
    "    print(\"\\n------- {0} -------\\n\".format(col))\n",
    "    print(data[col].value_counts())"
   ]
  },
  {
   "cell_type": "markdown",
   "id": "105f2686-5852-45e8-ab02-a6bb2af0369f",
   "metadata": {},
   "source": [
    "## Nulll Values"
   ]
  },
  {
   "cell_type": "code",
   "execution_count": 5,
   "id": "00e6e149-00b8-4e34-b60e-ba37a3b35f7e",
   "metadata": {
    "tags": []
   },
   "outputs": [
    {
     "name": "stdout",
     "output_type": "stream",
     "text": [
      "\n",
      "Year -------> 0.0\n",
      "\n",
      "County_of_Residence -------> 0.0\n",
      "\n",
      "County_of_Residence_FIPS -------> 0.0\n",
      "\n",
      "Births -------> 0.0\n",
      "\n",
      "Ave_Age_of_Mother -------> 0.0\n",
      "\n",
      "Ave_OE_Gestational_Age_Wks -------> 0.0\n",
      "\n",
      "Ave_LMP_Gestational_Age_Wks -------> 0.0\n",
      "\n",
      "Ave_Birth_Weight_gms -------> 0.0\n",
      "\n",
      "Ave_Pre_pregnancy_BMI -------> 0.0\n",
      "\n",
      "Ave_Number_of_Prenatal_Wks -------> 0.0\n"
     ]
    }
   ],
   "source": [
    "for col in data.columns.to_list():\n",
    "    print(\"\\n{0} -------> {1}\".format(col, round(data[col].isna().sum()/data.shape[0],2)))"
   ]
  },
  {
   "cell_type": "markdown",
   "id": "bff7e2b2-8e31-4651-8a77-eef9516554ce",
   "metadata": {
    "tags": []
   },
   "source": [
    "## Visualization"
   ]
  },
  {
   "cell_type": "code",
   "execution_count": 6,
   "id": "815a9cfc-d2f2-4c2a-850b-e5d10ab4c860",
   "metadata": {
    "tags": []
   },
   "outputs": [
    {
     "data": {
      "text/html": [
       "<iframe\n",
       "    scrolling=\"no\"\n",
       "    width=\"100%\"\n",
       "    height=\"545px\"\n",
       "    src=\"iframe_figures/figure_6.html\"\n",
       "    frameborder=\"0\"\n",
       "    allowfullscreen\n",
       "></iframe>\n"
      ]
     },
     "metadata": {},
     "output_type": "display_data"
    }
   ],
   "source": [
    "fig = px.box(data, y=[\"Births\",\"Ave_Age_of_Mother\",\"Ave_OE_Gestational_Age_Wks\",\n",
    "                                \"Ave_LMP_Gestational_Age_Wks\",\"Ave_Birth_Weight_gms\",\"Ave_Pre_pregnancy_BMI\",\n",
    "                                \"Ave_Number_of_Prenatal_Wks\"],\n",
    "             labels={\n",
    "                     \"variable\": \"Columns with numerical values\",\n",
    "                     \"value\": \"Values\",\n",
    "                 },\n",
    "             # template=\"plotly_dark\",\n",
    "             title=\"Outliers Visulaization\")\n",
    "fig.update_layout(title_x = 0.5,)\n",
    "fig.update_xaxes(showgrid=False)\n",
    "fig.update_yaxes(showgrid=False)\n",
    "\n",
    "fig.show()"
   ]
  },
  {
   "cell_type": "markdown",
   "id": "fe5c7247-4030-4ad0-b393-fac0989f655b",
   "metadata": {},
   "source": [
    "# Model Building"
   ]
  },
  {
   "cell_type": "code",
   "execution_count": 7,
   "id": "4229a75d-9f5c-48e5-a301-a49b6bbc660f",
   "metadata": {
    "tags": []
   },
   "outputs": [
    {
     "name": "stdout",
     "output_type": "stream",
     "text": [
      "Model fitted\n",
      "coefficient of determination:  0.7158756137479542\n",
      "intercept:  5.633333333333329\n",
      "slope:  [0.54]\n"
     ]
    }
   ],
   "source": [
    "x = np.array([5, 15, 25, 35, 45, 55]).reshape((-1, 1))\n",
    "y = np.array([5, 20, 14, 32, 22, 38])\n",
    "\n",
    "model = LinearRegression()\n",
    "\n",
    "model = LinearRegression().fit(x, y)\n",
    "print(\"Model fitted\")\n",
    "\n",
    "r_sq = model.score(x, y)\n",
    "print(\"coefficient of determination: \",r_sq)\n",
    "\n",
    "print(\"intercept: \",model.intercept_)\n",
    "\n",
    "print(\"slope: \",model.coef_)"
   ]
  },
  {
   "cell_type": "markdown",
   "id": "3d1a44af-85c1-4bbf-b027-35f6a5db4c42",
   "metadata": {},
   "source": [
    "## Prediction"
   ]
  },
  {
   "cell_type": "code",
   "execution_count": 8,
   "id": "634b48fa-9080-48a9-869f-7dbb897f565b",
   "metadata": {
    "tags": []
   },
   "outputs": [
    {
     "name": "stdout",
     "output_type": "stream",
     "text": [
      "Responses:  [ 8.33333333 13.73333333 19.13333333 24.53333333 29.93333333 35.33333333]\n"
     ]
    }
   ],
   "source": [
    "y_pred = model.predict(x)\n",
    "print(\"Responses: \",y_pred)"
   ]
  },
  {
   "cell_type": "markdown",
   "id": "8b5f0770-06aa-4674-84f9-45568656b5d0",
   "metadata": {},
   "source": [
    "## Pickling"
   ]
  },
  {
   "cell_type": "code",
   "execution_count": 9,
   "id": "35ef5d54-e459-4c73-9eef-605dc73fb76f",
   "metadata": {
    "tags": []
   },
   "outputs": [],
   "source": [
    "pickle.dump(model, open('model.pkl','wb'))"
   ]
  },
  {
   "cell_type": "markdown",
   "id": "ded85950-3bc4-43f3-8577-66801e8d5739",
   "metadata": {},
   "source": [
    "# Writing to Big Query"
   ]
  },
  {
   "cell_type": "code",
   "execution_count": 13,
   "id": "d0d1bee0-9a5a-4117-b7c1-b0a1fdcd051c",
   "metadata": {
    "tags": []
   },
   "outputs": [
    {
     "name": "stderr",
     "output_type": "stream",
     "text": [
      "/var/tmp/ipykernel_28762/1603484085.py:8: UserWarning:\n",
      "\n",
      "The argument 'infer_datetime_format' is deprecated and will be removed in a future version. A strict version of it is now the default, see https://pandas.pydata.org/pdeps/0004-consistent-to-datetime-parsing.html. You can safely remove this argument.\n",
      "\n",
      "100%|██████████| 1/1 [00:00<00:00, 3043.76it/s]\n"
     ]
    }
   ],
   "source": [
    "project_id = \"clean-pen-405815\" \n",
    "table_id = 'Viz.Sample'\n",
    "object_cols = data.select_dtypes(include=['object']).columns\n",
    "\n",
    "for column in object_cols:\n",
    "    dtype = str(type(data[column].values[0]))\n",
    "    if dtype == \"<class 'datetime.date'>\":\n",
    "        data[column]  = pd.to_datetime(data[column] , infer_datetime_format=True)\n",
    "\n",
    "# df.to_gbq(destination_table=PROCESSED_DATA_TABLE_NAME, if_exists='replace')\n",
    "pandas_gbq.to_gbq(data, table_id, project_id,if_exists='replace')"
   ]
  },
  {
   "cell_type": "code",
   "execution_count": null,
   "id": "8e5aa5f0-96cf-488a-bc05-518d7fb52b91",
   "metadata": {},
   "outputs": [],
   "source": []
  }
 ],
 "metadata": {
  "environment": {
   "kernel": "conda-root-py",
   "name": "workbench-notebooks.m113",
   "type": "gcloud",
   "uri": "gcr.io/deeplearning-platform-release/workbench-notebooks:m113"
  },
  "kernelspec": {
   "display_name": "Python 3 (ipykernel) (Local)",
   "language": "python",
   "name": "conda-root-py"
  },
  "language_info": {
   "codemirror_mode": {
    "name": "ipython",
    "version": 3
   },
   "file_extension": ".py",
   "mimetype": "text/x-python",
   "name": "python",
   "nbconvert_exporter": "python",
   "pygments_lexer": "ipython3",
   "version": "3.10.13"
  }
 },
 "nbformat": 4,
 "nbformat_minor": 5
}
